{
  "nbformat": 4,
  "nbformat_minor": 0,
  "metadata": {
    "colab": {
      "name": "Data Wrangling.ipynb",
      "provenance": [],
      "collapsed_sections": []
    },
    "kernelspec": {
      "name": "python3",
      "display_name": "Python 3"
    }
  },
  "cells": [
    {
      "cell_type": "markdown",
      "metadata": {
        "id": "TGS2ngVUi3hk"
      },
      "source": [
        "Data-wrangling Sample\n"
      ]
    },
    {
      "cell_type": "code",
      "metadata": {
        "id": "WK3di0GUvkYw",
        "colab": {
          "base_uri": "https://localhost:8080/"
        },
        "outputId": "3510ce08-c1e0-459f-d995-95d4e33ecb58"
      },
      "source": [
        "from google.colab import drive\n",
        "drive.mount('/content/drive/')"
      ],
      "execution_count": null,
      "outputs": [
        {
          "output_type": "stream",
          "name": "stdout",
          "text": [
            "Mounted at /content/drive/\n"
          ]
        }
      ]
    },
    {
      "cell_type": "markdown",
      "metadata": {
        "id": "L_pKr0iSx2YF"
      },
      "source": [
        "After successful mount, ctrl + click the drive. Navigate the shared folder, and look for the file 'sna_raw_data.csv', and then copy the path.\n",
        "\n",
        "Then, paste the path to the next line of code"
      ]
    },
    {
      "cell_type": "code",
      "metadata": {
        "id": "6UCu4lzL0bSl"
      },
      "source": [
        "filename = '/content/drive/MyDrive/VLL Wall Post LAK/sna_raw_data.csv'"
      ],
      "execution_count": null,
      "outputs": []
    },
    {
      "cell_type": "code",
      "metadata": {
        "id": "cFTm3Y2x8HJ1"
      },
      "source": [
        "import pandas as pd"
      ],
      "execution_count": null,
      "outputs": []
    },
    {
      "cell_type": "code",
      "metadata": {
        "id": "xGT9n12zP5Vy",
        "colab": {
          "base_uri": "https://localhost:8080/"
        },
        "outputId": "23cdb7b1-0400-402b-ba07-f4b7e39b4382"
      },
      "source": [
        "df = pd.read_csv(filename, encoding='utf-8')\n",
        "#df.head\n",
        "df.columns"
      ],
      "execution_count": null,
      "outputs": [
        {
          "output_type": "execute_result",
          "data": {
            "text/plain": [
              "Index(['post_id', 'useraccount_id', 'thread_id', 'post/comment text',\n",
              "       'timestamp', 'karma points awarded', 'post type', 'role'],\n",
              "      dtype='object')"
            ]
          },
          "metadata": {},
          "execution_count": 5
        }
      ]
    },
    {
      "cell_type": "code",
      "metadata": {
        "id": "Rfr-2zNN6oWd"
      },
      "source": [
        "row_headers = ['post_id','useraccount_id', 'thread_id', 'post/comment text', 'timestamp', 'karma points awarded', 'post type', 'role']\n",
        "df = pd.read_csv(filename, names=row_headers, skiprows=1)\n",
        "reordered_columns = ['timestamp',  'post_id', 'useraccount_id', 'thread_id', 'post type', 'role', 'karma points awarded', 'post/comment text']\n",
        "df = df[reordered_columns]\n",
        "df['timestamp'] = pd.to_datetime(df['timestamp'], infer_datetime_format=True)\n",
        "df = df.sort_values(by='timestamp')\n",
        "#df.to_csv('sna_preprocessed.csv', index=False, header=True)"
      ],
      "execution_count": null,
      "outputs": []
    },
    {
      "cell_type": "code",
      "metadata": {
        "id": "Hyg2ZNHR9wK4",
        "colab": {
          "base_uri": "https://localhost:8080/"
        },
        "outputId": "94d3f4e5-077b-4008-fa25-f33c9decbb0e"
      },
      "source": [
        "print(df.head())\n",
        "print (df.columns)"
      ],
      "execution_count": null,
      "outputs": [
        {
          "output_type": "stream",
          "name": "stdout",
          "text": [
            "            timestamp  ...                                  post/comment text\n",
            "1 2018-08-01 13:00:00  ...         hi Lucas!  what can I help you with today?\n",
            "2 2018-08-01 13:02:00  ...  Topic 9: Solution Sets to Equations with Two V...\n",
            "3 2018-08-01 13:05:00  ...  do you need help with this problem or have a q...\n",
            "4 2018-08-01 13:21:00  ...  hi Jeevika!  where do you see the SAT prep but...\n",
            "5 2018-08-01 13:23:00  ...  when you go to the algebra 2 videos at the top...\n",
            "\n",
            "[5 rows x 8 columns]\n",
            "Index(['timestamp', 'post_id', 'useraccount_id', 'thread_id', 'post type',\n",
            "       'role', 'karma points awarded', 'post/comment text'],\n",
            "      dtype='object')\n"
          ]
        }
      ]
    },
    {
      "cell_type": "code",
      "metadata": {
        "id": "5C4yPjGEQdwX",
        "colab": {
          "base_uri": "https://localhost:8080/"
        },
        "outputId": "fc32bf3c-7333-4e28-91ff-e3741a283f61"
      },
      "source": [
        "df.shape"
      ],
      "execution_count": null,
      "outputs": [
        {
          "output_type": "execute_result",
          "data": {
            "text/plain": [
              "(171990, 8)"
            ]
          },
          "metadata": {},
          "execution_count": 8
        }
      ]
    },
    {
      "cell_type": "code",
      "metadata": {
        "id": "2Ait4W6W-HQG",
        "colab": {
          "base_uri": "https://localhost:8080/"
        },
        "outputId": "3807077b-a441-40c2-b2c4-f55c6bdf471f"
      },
      "source": [
        "print(df['post_id'].nunique())\n",
        "print(df['thread_id'].nunique())\n",
        "print(df['useraccount_id'].nunique())\n",
        "print(df['role'].nunique())\n",
        "print(df['karma points awarded'].nunique())\n",
        "print(df['post type'].nunique())\n",
        "\n",
        "print(df['role'].unique())\n",
        "print(df['karma points awarded'].unique())\n",
        "print(df['post type'].unique())"
      ],
      "execution_count": null,
      "outputs": [
        {
          "output_type": "stream",
          "name": "stdout",
          "text": [
            "171990\n",
            "14383\n",
            "4720\n",
            "4\n",
            "4\n",
            "2\n",
            "['Study expert' 'Student' 'Teacher' 'Study expert/Guide']\n",
            "[  0 100 200 500]\n",
            "['comment' 'post']\n"
          ]
        }
      ]
    },
    {
      "cell_type": "markdown",
      "metadata": {
        "id": "vkuzF33b-lSY"
      },
      "source": [
        "From the prints above, there are a total of 171990 rows which is the number of posts. 14383 is the total number of unique threads, and there are a total of 4720 unique users. The users are also either a student expert, student, teacher, or a study expert/guide. The karma points were also either 0, 100, 200, or 500. Lastly, each post is either a comment or a post."
      ]
    },
    {
      "cell_type": "markdown",
      "metadata": {
        "id": "6ewMS8NM_bS4"
      },
      "source": [
        "In the following lines of code, I will generate a csv file based on specific groupings."
      ]
    },
    {
      "cell_type": "markdown",
      "metadata": {
        "id": "7GIODA-z_oc_"
      },
      "source": [
        "1st Grouping: Group by users, and count their respective comments and posts"
      ]
    },
    {
      "cell_type": "code",
      "metadata": {
        "id": "VUdRHFmY_Z4u"
      },
      "source": [
        "df_users = df.groupby('useraccount_id')['post type'].value_counts().unstack().fillna(0)\n",
        "#df_users.to_csv('sna_processed_data-users.csv', header=True)"
      ],
      "execution_count": null,
      "outputs": []
    },
    {
      "cell_type": "code",
      "metadata": {
        "id": "z_CNvGSvAEBe",
        "colab": {
          "base_uri": "https://localhost:8080/",
          "height": 297
        },
        "outputId": "2aa72621-5859-49ee-a709-ee3fc04389b1"
      },
      "source": [
        "df_users.describe()"
      ],
      "execution_count": null,
      "outputs": [
        {
          "output_type": "execute_result",
          "data": {
            "text/html": [
              "<div>\n",
              "<style scoped>\n",
              "    .dataframe tbody tr th:only-of-type {\n",
              "        vertical-align: middle;\n",
              "    }\n",
              "\n",
              "    .dataframe tbody tr th {\n",
              "        vertical-align: top;\n",
              "    }\n",
              "\n",
              "    .dataframe thead th {\n",
              "        text-align: right;\n",
              "    }\n",
              "</style>\n",
              "<table border=\"1\" class=\"dataframe\">\n",
              "  <thead>\n",
              "    <tr style=\"text-align: right;\">\n",
              "      <th>post type</th>\n",
              "      <th>comment</th>\n",
              "      <th>post</th>\n",
              "    </tr>\n",
              "  </thead>\n",
              "  <tbody>\n",
              "    <tr>\n",
              "      <th>count</th>\n",
              "      <td>4720.000000</td>\n",
              "      <td>4720.000000</td>\n",
              "    </tr>\n",
              "    <tr>\n",
              "      <th>mean</th>\n",
              "      <td>34.207203</td>\n",
              "      <td>2.231356</td>\n",
              "    </tr>\n",
              "    <tr>\n",
              "      <th>std</th>\n",
              "      <td>269.896249</td>\n",
              "      <td>7.780515</td>\n",
              "    </tr>\n",
              "    <tr>\n",
              "      <th>min</th>\n",
              "      <td>0.000000</td>\n",
              "      <td>0.000000</td>\n",
              "    </tr>\n",
              "    <tr>\n",
              "      <th>25%</th>\n",
              "      <td>1.000000</td>\n",
              "      <td>0.000000</td>\n",
              "    </tr>\n",
              "    <tr>\n",
              "      <th>50%</th>\n",
              "      <td>3.000000</td>\n",
              "      <td>1.000000</td>\n",
              "    </tr>\n",
              "    <tr>\n",
              "      <th>75%</th>\n",
              "      <td>10.000000</td>\n",
              "      <td>2.000000</td>\n",
              "    </tr>\n",
              "    <tr>\n",
              "      <th>max</th>\n",
              "      <td>9340.000000</td>\n",
              "      <td>221.000000</td>\n",
              "    </tr>\n",
              "  </tbody>\n",
              "</table>\n",
              "</div>"
            ],
            "text/plain": [
              "post type      comment         post\n",
              "count      4720.000000  4720.000000\n",
              "mean         34.207203     2.231356\n",
              "std         269.896249     7.780515\n",
              "min           0.000000     0.000000\n",
              "25%           1.000000     0.000000\n",
              "50%           3.000000     1.000000\n",
              "75%          10.000000     2.000000\n",
              "max        9340.000000   221.000000"
            ]
          },
          "metadata": {},
          "execution_count": 11
        }
      ]
    },
    {
      "cell_type": "code",
      "metadata": {
        "id": "dquK1p6UZYiR"
      },
      "source": [
        "df[df['useraccount_id'] == 5272649]"
      ],
      "execution_count": null,
      "outputs": []
    },
    {
      "cell_type": "markdown",
      "metadata": {
        "id": "cp6OK1QWAK1G"
      },
      "source": [
        "2nd Grouping: Group by threads, and count the number of comments and posts"
      ]
    },
    {
      "cell_type": "code",
      "metadata": {
        "id": "wEdXUZtKAWYX"
      },
      "source": [
        "df_threads = df.groupby('thread_id')['post type'].value_counts().unstack().fillna(0)\n",
        "#df_threads.to_csv('sna_processed_data-threads.csv', header=True)"
      ],
      "execution_count": null,
      "outputs": []
    },
    {
      "cell_type": "code",
      "metadata": {
        "id": "mA9ShYnoAZR_",
        "colab": {
          "base_uri": "https://localhost:8080/",
          "height": 416
        },
        "outputId": "eb200f99-ff19-4972-c3c4-f1fc1195fc7c"
      },
      "source": [
        "print(df_threads.head())\n",
        "df_threads.describe()"
      ],
      "execution_count": null,
      "outputs": [
        {
          "output_type": "stream",
          "name": "stdout",
          "text": [
            "post type  comment  post\n",
            "thread_id               \n",
            "221216         1.0   0.0\n",
            "366837         6.0   0.0\n",
            "407299         1.0   0.0\n",
            "511996         6.0   0.0\n",
            "664724         1.0   0.0\n"
          ]
        },
        {
          "output_type": "execute_result",
          "data": {
            "text/html": [
              "<div>\n",
              "<style scoped>\n",
              "    .dataframe tbody tr th:only-of-type {\n",
              "        vertical-align: middle;\n",
              "    }\n",
              "\n",
              "    .dataframe tbody tr th {\n",
              "        vertical-align: top;\n",
              "    }\n",
              "\n",
              "    .dataframe thead th {\n",
              "        text-align: right;\n",
              "    }\n",
              "</style>\n",
              "<table border=\"1\" class=\"dataframe\">\n",
              "  <thead>\n",
              "    <tr style=\"text-align: right;\">\n",
              "      <th>post type</th>\n",
              "      <th>comment</th>\n",
              "      <th>post</th>\n",
              "    </tr>\n",
              "  </thead>\n",
              "  <tbody>\n",
              "    <tr>\n",
              "      <th>count</th>\n",
              "      <td>14383.000000</td>\n",
              "      <td>14383.000000</td>\n",
              "    </tr>\n",
              "    <tr>\n",
              "      <th>mean</th>\n",
              "      <td>11.225614</td>\n",
              "      <td>0.732253</td>\n",
              "    </tr>\n",
              "    <tr>\n",
              "      <th>std</th>\n",
              "      <td>13.026648</td>\n",
              "      <td>0.442800</td>\n",
              "    </tr>\n",
              "    <tr>\n",
              "      <th>min</th>\n",
              "      <td>0.000000</td>\n",
              "      <td>0.000000</td>\n",
              "    </tr>\n",
              "    <tr>\n",
              "      <th>25%</th>\n",
              "      <td>3.000000</td>\n",
              "      <td>0.000000</td>\n",
              "    </tr>\n",
              "    <tr>\n",
              "      <th>50%</th>\n",
              "      <td>7.000000</td>\n",
              "      <td>1.000000</td>\n",
              "    </tr>\n",
              "    <tr>\n",
              "      <th>75%</th>\n",
              "      <td>14.000000</td>\n",
              "      <td>1.000000</td>\n",
              "    </tr>\n",
              "    <tr>\n",
              "      <th>max</th>\n",
              "      <td>245.000000</td>\n",
              "      <td>1.000000</td>\n",
              "    </tr>\n",
              "  </tbody>\n",
              "</table>\n",
              "</div>"
            ],
            "text/plain": [
              "post type       comment          post\n",
              "count      14383.000000  14383.000000\n",
              "mean          11.225614      0.732253\n",
              "std           13.026648      0.442800\n",
              "min            0.000000      0.000000\n",
              "25%            3.000000      0.000000\n",
              "50%            7.000000      1.000000\n",
              "75%           14.000000      1.000000\n",
              "max          245.000000      1.000000"
            ]
          },
          "metadata": {},
          "execution_count": 13
        }
      ]
    },
    {
      "cell_type": "markdown",
      "metadata": {
        "id": "wp9tgkiHAfEn"
      },
      "source": [
        "3rd Grouping: Group by thread, and count the number of users in each thread (Columns are the number of unique users, and the rows are the unique number of threads, so this is a very large file and will take a while to run)"
      ]
    },
    {
      "cell_type": "code",
      "metadata": {
        "id": "1Mv_xqWpBY4O"
      },
      "source": [
        "df_threads_users = df.groupby('thread_id')['useraccount_id'].value_counts().unstack().fillna(0)\n",
        "df_threads_users.to_csv('sna_processed_data-threads-users.csv', header=True)"
      ],
      "execution_count": null,
      "outputs": []
    },
    {
      "cell_type": "code",
      "metadata": {
        "id": "xouEdLaiwr5u"
      },
      "source": [
        "print(df_threads_users.head())"
      ],
      "execution_count": null,
      "outputs": []
    },
    {
      "cell_type": "markdown",
      "metadata": {
        "id": "KTBWBuE_C4uA"
      },
      "source": [
        "4th Grouping: Group by thread, and count number of different types of users in each thread"
      ]
    },
    {
      "cell_type": "code",
      "metadata": {
        "id": "-HUIt1QkC4Ye"
      },
      "source": [
        "df_threads_roles = df.groupby('thread_id')['role'].value_counts().unstack().fillna(0)\n",
        "df_threads_roles.to_csv('sna_processed_data-threads-roles.csv', header=True)"
      ],
      "execution_count": null,
      "outputs": []
    },
    {
      "cell_type": "code",
      "metadata": {
        "colab": {
          "base_uri": "https://localhost:8080/",
          "height": 297
        },
        "id": "yC4QxIIeMr3E",
        "outputId": "7ab0407f-c764-4ed3-ff29-00e1a2a9f8d1"
      },
      "source": [
        "df_threads_roles.describe()"
      ],
      "execution_count": null,
      "outputs": [
        {
          "output_type": "execute_result",
          "data": {
            "text/html": [
              "<div>\n",
              "<style scoped>\n",
              "    .dataframe tbody tr th:only-of-type {\n",
              "        vertical-align: middle;\n",
              "    }\n",
              "\n",
              "    .dataframe tbody tr th {\n",
              "        vertical-align: top;\n",
              "    }\n",
              "\n",
              "    .dataframe thead th {\n",
              "        text-align: right;\n",
              "    }\n",
              "</style>\n",
              "<table border=\"1\" class=\"dataframe\">\n",
              "  <thead>\n",
              "    <tr style=\"text-align: right;\">\n",
              "      <th>role</th>\n",
              "      <th>Student</th>\n",
              "      <th>Study expert</th>\n",
              "      <th>Study expert/Guide</th>\n",
              "      <th>Teacher</th>\n",
              "    </tr>\n",
              "  </thead>\n",
              "  <tbody>\n",
              "    <tr>\n",
              "      <th>count</th>\n",
              "      <td>14383.000000</td>\n",
              "      <td>14383.000000</td>\n",
              "      <td>14383.000000</td>\n",
              "      <td>14383.000000</td>\n",
              "    </tr>\n",
              "    <tr>\n",
              "      <th>mean</th>\n",
              "      <td>8.852187</td>\n",
              "      <td>3.095808</td>\n",
              "      <td>0.001738</td>\n",
              "      <td>0.008135</td>\n",
              "    </tr>\n",
              "    <tr>\n",
              "      <th>std</th>\n",
              "      <td>10.443702</td>\n",
              "      <td>3.616853</td>\n",
              "      <td>0.041656</td>\n",
              "      <td>0.158223</td>\n",
              "    </tr>\n",
              "    <tr>\n",
              "      <th>min</th>\n",
              "      <td>0.000000</td>\n",
              "      <td>0.000000</td>\n",
              "      <td>0.000000</td>\n",
              "      <td>0.000000</td>\n",
              "    </tr>\n",
              "    <tr>\n",
              "      <th>25%</th>\n",
              "      <td>2.000000</td>\n",
              "      <td>1.000000</td>\n",
              "      <td>0.000000</td>\n",
              "      <td>0.000000</td>\n",
              "    </tr>\n",
              "    <tr>\n",
              "      <th>50%</th>\n",
              "      <td>6.000000</td>\n",
              "      <td>2.000000</td>\n",
              "      <td>0.000000</td>\n",
              "      <td>0.000000</td>\n",
              "    </tr>\n",
              "    <tr>\n",
              "      <th>75%</th>\n",
              "      <td>12.000000</td>\n",
              "      <td>4.000000</td>\n",
              "      <td>0.000000</td>\n",
              "      <td>0.000000</td>\n",
              "    </tr>\n",
              "    <tr>\n",
              "      <th>max</th>\n",
              "      <td>228.000000</td>\n",
              "      <td>65.000000</td>\n",
              "      <td>1.000000</td>\n",
              "      <td>9.000000</td>\n",
              "    </tr>\n",
              "  </tbody>\n",
              "</table>\n",
              "</div>"
            ],
            "text/plain": [
              "role        Student  Study expert  Study expert/Guide       Teacher\n",
              "count  14383.000000  14383.000000        14383.000000  14383.000000\n",
              "mean       8.852187      3.095808            0.001738      0.008135\n",
              "std       10.443702      3.616853            0.041656      0.158223\n",
              "min        0.000000      0.000000            0.000000      0.000000\n",
              "25%        2.000000      1.000000            0.000000      0.000000\n",
              "50%        6.000000      2.000000            0.000000      0.000000\n",
              "75%       12.000000      4.000000            0.000000      0.000000\n",
              "max      228.000000     65.000000            1.000000      9.000000"
            ]
          },
          "metadata": {},
          "execution_count": 29
        }
      ]
    },
    {
      "cell_type": "code",
      "metadata": {
        "id": "HWq_EW8QDYGu",
        "colab": {
          "base_uri": "https://localhost:8080/"
        },
        "outputId": "160e847d-dc5f-47a7-ee2a-f358deb038b8"
      },
      "source": [
        "print(df_threads_roles.head())"
      ],
      "execution_count": null,
      "outputs": [
        {
          "output_type": "stream",
          "name": "stdout",
          "text": [
            "role       Student  Study expert  Study expert/Guide  Teacher\n",
            "thread_id                                                    \n",
            "221216         1.0           0.0                 0.0      0.0\n",
            "366837         6.0           0.0                 0.0      0.0\n",
            "407299         1.0           0.0                 0.0      0.0\n",
            "511996         6.0           0.0                 0.0      0.0\n",
            "664724         0.0           1.0                 0.0      0.0\n"
          ]
        }
      ]
    },
    {
      "cell_type": "markdown",
      "metadata": {
        "id": "VvwCPgIqDvLJ"
      },
      "source": [
        "In this section, the network graph will be created using the networkx module. We will also need sklearn to normalize the weights of the edges of the network. Itertools will also be used for easier generation of combinations when we are adding edges to the network."
      ]
    },
    {
      "cell_type": "markdown",
      "metadata": {
        "id": "-imeglxMFEJm"
      },
      "source": [
        "For the network to be generated, we will only be needing the useraccount_id and thread_id columns"
      ]
    },
    {
      "cell_type": "code",
      "metadata": {
        "id": "u3_aYN-_E10Q"
      },
      "source": [
        "df = pd.read_csv('sna_preprocessed.csv')\n",
        "df = df[['post/comment text', 'thread_id', 'useraccount_id']]"
      ],
      "execution_count": null,
      "outputs": []
    },
    {
      "cell_type": "code",
      "metadata": {
        "id": "7BQtYgvbGBsi",
        "colab": {
          "base_uri": "https://localhost:8080/"
        },
        "outputId": "e6529e56-96ba-4dc6-8d39-38838ce2c5a9"
      },
      "source": [
        "print(df.head())"
      ],
      "execution_count": null,
      "outputs": [
        {
          "output_type": "stream",
          "name": "stdout",
          "text": [
            "                                   post/comment text  thread_id  useraccount_id\n",
            "0         hi Lucas!  what can I help you with today?    2578176         7995389\n",
            "1  Topic 9: Solution Sets to Equations with Two V...    2578178         4875726\n",
            "2  do you need help with this problem or have a q...    2578178         7995389\n",
            "3  hi Jeevika!  where do you see the SAT prep but...    2578180         7995389\n",
            "4  when you go to the algebra 2 videos at the top...    2578180         5335377\n"
          ]
        }
      ]
    },
    {
      "cell_type": "markdown",
      "metadata": {
        "id": "GEtE74RCGLDv"
      },
      "source": [
        "Next, lets group the dataframe by thread_id and then transform the useraccount_id into a list of unique useraccount_ids per unique thread."
      ]
    },
    {
      "cell_type": "code",
      "metadata": {
        "id": "I2NhzExZTmi-"
      },
      "source": [
        ""
      ],
      "execution_count": null,
      "outputs": []
    },
    {
      "cell_type": "code",
      "metadata": {
        "id": "4QnOYM46boil",
        "colab": {
          "base_uri": "https://localhost:8080/"
        },
        "outputId": "769db73e-4967-46e3-fa55-3749b6bfb21b"
      },
      "source": [
        "import nltk\n",
        "import ssl\n",
        "\n",
        "try:\n",
        "    _create_unverified_https_context = ssl._create_unverified_context\n",
        "except AttributeError:\n",
        "    pass\n",
        "else:\n",
        "    ssl._create_default_https_context = _create_unverified_https_context\n",
        "\n",
        "nltk.download('stopwords')\n",
        "nltk.download('punkt')\n",
        "nltk.download('wordnet')\n",
        "\n",
        "from nltk.corpus import stopwords\n",
        "stop_words = stopwords.words('english')\n",
        "stop_words.extend(['would', 'uhmm'])"
      ],
      "execution_count": null,
      "outputs": [
        {
          "output_type": "stream",
          "text": [
            "[nltk_data] Downloading package stopwords to /root/nltk_data...\n",
            "[nltk_data]   Package stopwords is already up-to-date!\n",
            "[nltk_data] Downloading package punkt to /root/nltk_data...\n",
            "[nltk_data]   Package punkt is already up-to-date!\n",
            "[nltk_data] Downloading package wordnet to /root/nltk_data...\n",
            "[nltk_data]   Package wordnet is already up-to-date!\n"
          ],
          "name": "stdout"
        }
      ]
    },
    {
      "cell_type": "code",
      "metadata": {
        "id": "N9o4eR75GPxw"
      },
      "source": [
        "df_threads = df.groupby('thread_id')['useraccount_id'].apply(set).reset_index(name='useraccount_ids')"
      ],
      "execution_count": null,
      "outputs": []
    },
    {
      "cell_type": "code",
      "metadata": {
        "id": "0qhaI3w1S0ff"
      },
      "source": [
        "df.post_or_comment_text = df.post_or_comment_text.str.replace(\"[^A-Za-z ]\", \" \")\n",
        "#df.post_or_comment_text = str(df.post_or_comment_text)\n",
        "#df.post_or_comment_text = df.post_or_comment_text.apply(cleaning)"
      ],
      "execution_count": null,
      "outputs": []
    },
    {
      "cell_type": "code",
      "metadata": {
        "id": "3tGUGI32XPBl"
      },
      "source": [
        "# Cleaning Function\n",
        "def cleaning(string):\n",
        "    string = string.lower()\n",
        "    string = string.replace('àö', '')\n",
        "    string = string.replace('çå', '')\n",
        "    string = string.replace('ç', '')\n",
        "    string = string.replace('å', '')\n",
        "    string = string.replace('äôs', '')\n",
        "    string = string.replace('çç', '')\n",
        "    string = string.replace('äôt', '')\n",
        "    string = string.lower()\n",
        "   \n",
        "    from nltk.stem import WordNetLemmatizer\n",
        "    import nltk\n",
        "    words = nltk.word_tokenize(string)\n",
        "    lemmatizer = WordNetLemmatizer()\n",
        "    words = [lemmatizer.lemmatize(i) for i in words]\n",
        "    new_words = []\n",
        "    for i in words:\n",
        "        if i.isdigit():\n",
        "            new_words.append('NUMBER')\n",
        "        else:\n",
        "            new_words.append(i)\n",
        "    return ' '.join(new_words)"
      ],
      "execution_count": null,
      "outputs": []
    },
    {
      "cell_type": "code",
      "metadata": {
        "id": "oq9mY_lGNHhT"
      },
      "source": [
        "df_threads_text = df.groupby('thread_id')['post/comment text'].apply(set).reset_index(name='post/comment texts')"
      ],
      "execution_count": null,
      "outputs": []
    },
    {
      "cell_type": "code",
      "metadata": {
        "id": "yj1EJsFAkf0I"
      },
      "source": [
        "df_threads_userid = df.groupby('thread_id')['useraccount_id'].apply(set).reset_index(name='useraccount_ids')"
      ],
      "execution_count": null,
      "outputs": []
    },
    {
      "cell_type": "code",
      "metadata": {
        "id": "TewoSYcKHLUx",
        "colab": {
          "base_uri": "https://localhost:8080/"
        },
        "outputId": "137a4ea2-8c0f-4cdf-8272-f7c19ad73606"
      },
      "source": [
        "print(df_threads_text.head())"
      ],
      "execution_count": null,
      "outputs": [
        {
          "output_type": "stream",
          "name": "stdout",
          "text": [
            "   thread_id                                 post/comment texts\n",
            "0     221216  {This may not be related to Algebra and all, b...\n",
            "1     366837  {Simon, this post was already answered a long ...\n",
            "2     407299               {THANK YOU SO MUCH! You are amazing}\n",
            "3     511996  {yes they are all polynomials, yeah they are a...\n",
            "4     664724  {this post is answered and don't use that lang...\n"
          ]
        }
      ]
    },
    {
      "cell_type": "code",
      "metadata": {
        "id": "x7RxHGLnkuU7"
      },
      "source": [
        "df_threads_userid.to_csv('sna_processed_data-users-in-thread.csv', header=True)"
      ],
      "execution_count": null,
      "outputs": []
    },
    {
      "cell_type": "code",
      "metadata": {
        "colab": {
          "base_uri": "https://localhost:8080/"
        },
        "id": "at-qMt8XkuxW",
        "outputId": "b07f0da1-8ffa-4f02-b58c-6fe9b6ad9111"
      },
      "source": [
        "print(df_threads_userid.head())\n"
      ],
      "execution_count": null,
      "outputs": [
        {
          "output_type": "stream",
          "name": "stdout",
          "text": [
            "   thread_id                                useraccount_ids\n",
            "0     221216                                      {2622189}\n",
            "1     366837                    {2565621, 6763421, 8573191}\n",
            "2     407299                                      {1800818}\n",
            "3     511996  {4582984, 4516785, 5357979, 3175581, 3237182}\n",
            "4     664724                                      {7821006}\n"
          ]
        }
      ]
    },
    {
      "cell_type": "markdown",
      "metadata": {
        "id": "OHV7kV46HJOo"
      },
      "source": [
        "The next line will discard rows which has only one useraccount_id. If a thread_id only has one useraccount_id, then it cannot be associated with any other user in any way."
      ]
    },
    {
      "cell_type": "code",
      "metadata": {
        "id": "hIftQdMgHIuH"
      },
      "source": [
        "df_threads_text['length'] = df_threads_text['post/comment texts'].apply(len)\n",
        "df_threads_text = df_threads_text[df_threads_text['length'] > 1]"
      ],
      "execution_count": null,
      "outputs": []
    },
    {
      "cell_type": "markdown",
      "metadata": {
        "id": "ZBZ2vhjzHBdY"
      },
      "source": [
        "The data will now look like this:"
      ]
    },
    {
      "cell_type": "code",
      "metadata": {
        "id": "-CGYbV-XGZvv",
        "colab": {
          "base_uri": "https://localhost:8080/"
        },
        "outputId": "32d21bc4-bf03-43ad-ec4d-2c00a8c61f00"
      },
      "source": [
        "print(df_threads_text.head())\n",
        "df_threads_text.to_csv('threads_texts_0917.csv', header=True)"
      ],
      "execution_count": null,
      "outputs": [
        {
          "output_type": "stream",
          "name": "stdout",
          "text": [
            "   thread_id                                 post/comment texts  length\n",
            "1     366837  {Simon, this post was already answered a long ...       6\n",
            "3     511996  {yes they are all polynomials, yeah they are a...       6\n",
            "5     817211                 {I put like for everyone., Thanks}       2\n",
            "6     960330  {Go to the top and find videos and more. you s...       5\n",
            "7     979597  {Hm, i honesly do not how to do but i know the...       2\n"
          ]
        }
      ]
    }
  ]
}