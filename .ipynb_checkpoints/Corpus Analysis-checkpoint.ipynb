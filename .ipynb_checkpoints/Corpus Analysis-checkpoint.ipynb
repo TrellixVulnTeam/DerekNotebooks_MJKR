{
 "cells": [
  {
   "cell_type": "code",
   "execution_count": 40,
   "id": "fb22f654",
   "metadata": {},
   "outputs": [
    {
     "name": "stdout",
     "output_type": "stream",
     "text": [
      "0      This post appears to be about vaccines, please...\n",
      "1      Who's ahead in the pool for the third vaccine ...\n",
      "2      \"asymptomatic infection was reduced by 63 perc...\n",
      "3      > and appears to prevent the spread of the vir...\n",
      "4      The fact that there are multiple companies mak...\n",
      "                             ...                        \n",
      "496    I'm glad to see the CDC is keeping count. I ho...\n",
      "497    If this number is accurate, I'm fairly impress...\n",
      "498    It's insane to see my health professional frie...\n",
      "499    Moderna shipments are already arriving at door...\n",
      "500                                            Let’s go.\n",
      "Name: comment_body, Length: 501, dtype: object\n",
      "\n",
      "First comment from the dataset:\n",
      " This post appears to be about vaccines, please see [our FAQ](https://www.reddit.com/r/Coronavirus/wiki/faq#wiki_where_can_i_find_information_about_the_mechanism_and_progress_of_vaccines.3F) for answers to frequently asked questions regarding the COVID-19 vaccines. Any comment containing misinformation will be removed and the user potentially banned.\n",
      "\n",
      "\n",
      "*I am a bot, and this action was performed automatically. Please [contact the moderators of this subreddit](/message/compose/?to=/r/Coronavirus) if you have any questions or concerns.* \n",
      "\n",
      "\n",
      "Before:  34768\n",
      "After:  33912\n"
     ]
    }
   ],
   "source": [
    "import pandas as pd\n",
    "\n",
    "data=pd.read_csv('commentsRedditVaccines.csv')\n",
    "\n",
    "print(data.loc[0:500]['comment_body'])\n",
    "print(\"\\nFirst comment from the dataset:\\n\",data.loc[0]['comment_body'],'\\n\\n')\n",
    "\n",
    "print(\"Before: \",len(data))\n",
    "data.drop_duplicates()\n",
    "indices=data[(data['comment_body']=='[removed]')].index\n",
    "data.drop(indices,inplace=True)\n",
    "print(\"After: \",len(data))\n"
   ]
  },
  {
   "cell_type": "markdown",
   "id": "b7333804",
   "metadata": {},
   "source": [
    "## **The columns are:** \n",
    "'post_id', 'post_author', 'post_date', 'post_title', 'post_score','post_permalink', 'post_url', 'comment_id','comment_author','comment_date', 'comment_parent_id', 'comment_edited', 'comment_score','comment_body'\n"
   ]
  },
  {
   "cell_type": "code",
   "execution_count": 48,
   "id": "6fc74971",
   "metadata": {},
   "outputs": [
    {
     "data": {
      "text/plain": [
       "700      They’re testing both one and two dose schedule...\n",
       "6915      It's a shitshow with the vaccinations in Florida\n",
       "3074     LOL at \"recruiting\" 5 year olds. Like they're ...\n",
       "32068    Oxford/J&J will most likely be approved before...\n",
       "22226    Potentially, even with 60% they had 0 people s...\n",
       "                               ...                        \n",
       "8269     Please use it in comments in 10 other randomly...\n",
       "8654              I’m a statistician and yes, yes we are 😂\n",
       "24215    There is a large US trial currently underway s...\n",
       "5658     I greatly respect the [Serum Institute of Indi...\n",
       "23717    That’s the public part of the review. There re...\n",
       "Name: comment_body, Length: 10000, dtype: object"
      ]
     },
     "execution_count": 48,
     "metadata": {},
     "output_type": "execute_result"
    }
   ],
   "source": [
    "#Removal of emojis, urls, and non-punctuation symbols like [ ]\n",
    "import re\n",
    "import emoji\n",
    "from nltk.tokenize import word_tokenize\n",
    "# nltk.download(stopwords)\n",
    "from nltk.corpus import stopwords\n",
    "stopWords=stopwords.words('english')\n",
    "\n",
    "def symbolCleaner(text):\n",
    "    text=re.sub(r'\\w+:\\/{2}[\\d\\w-]+(\\.[\\d\\w-]+)*(?:(?:\\/[^\\s/]*))*', '', text) #remove url\n",
    "    text=re.sub(r'[^\\w\\s]','',text) #idk this regex tbh\n",
    "    text=text.replace('\\n',' ')\n",
    "    text=text.replace('_',' ')\n",
    "    text=text.replace('\\t',' ')\n",
    "    text=text.replace('\\r',' ')\n",
    "    text=text.replace('gt',' ')\n",
    "    # https://stackoverflow.com/questions/33404752/removing-emojis-from-a-string-in-python\n",
    "    emoji_pattern = re.compile(u\"[\"\n",
    "                        u\"\\U0001F600-\\U0001F64F\"  # emoticons\n",
    "                        u\"\\U0001F300-\\U0001F5FF\"  # symbols & pictographs\n",
    "                        u\"\\U0001F680-\\U0001F6FF\"  # transport & map symbols\n",
    "                        u\"\\U0001F1E0-\\U0001F1FF\"  # flags (iOS)\n",
    "                        u\"\\U0001F1F2-\\U0001F1F4\"  # Macau flag\n",
    "                        u\"\\U00002500-\\U00002BEF\"  # chinese char\n",
    "                        u\"\\U0001F1E6-\\U0001F1FF\"  # flags\n",
    "                        u\"\\U0001F600-\\U0001F64F\"\n",
    "                        u\"\\U00002702-\\U000027B0\"\n",
    "                        u\"\\U000024C2-\\U0001F251\"\n",
    "                        u\"\\U0001f926-\\U0001f937\"\n",
    "                        u\"\\U00010000-\\U0010ffff\"\n",
    "                        u\"\\u2640-\\u2642\" \n",
    "                        u\"\\u2600-\\u2B55\"\n",
    "                        u\"\\u200d\"\n",
    "                        u\"\\u23cf\"\n",
    "                        u\"\\u23e9\"\n",
    "                        u\"\\u231a\"\n",
    "                        u\"\\ufe0f\"  # dingbats\n",
    "                        u\"\\u3030\"\n",
    "                        u\"\\U0001F493\"\n",
    "                        u\"\\U0001F1F2\"\n",
    "                        u\"\\U0001F1F4\"\n",
    "                        u\"\\U0001F620\"\n",
    "                        u\"\\U0001F602\"\n",
    "                        \"]+\", re.UNICODE)\n",
    "    text=emoji_pattern.sub(r'', text)\n",
    "    text=emoji.get_emoji_regexp().sub(u'', text)\n",
    "    text=re.sub('\\s+',' ',text)\n",
    "    return text\n",
    "\n",
    "def removeStopwords(tokens):\n",
    "    cleaned=[]\n",
    "    for v in tokens:\n",
    "            if v not in stopWords:\n",
    "                cleaned.append(v)\n",
    "    return stops\n",
    "\n",
    "# Randomly selecting 10,000 samples from the corpus\n",
    "randomSamples=data['comment_body'].sample(10000)\n",
    "randomSamples"
   ]
  },
  {
   "cell_type": "markdown",
   "id": "6b5c7fa4",
   "metadata": {},
   "source": [
    "# The samples after being cleaned"
   ]
  },
  {
   "cell_type": "code",
   "execution_count": 49,
   "id": "341aebca",
   "metadata": {},
   "outputs": [
    {
     "data": {
      "text/plain": [
       "700      theyre testing both one and two dose schedules...\n",
       "6915       its a shitshow with the vaccinations in florida\n",
       "3074     lol at recruiting 5 year olds like theyre gonn...\n",
       "32068    oxfordjj will most likely be approved before j...\n",
       "22226    potentially even with 60 they had 0 people sic...\n",
       "                               ...                        \n",
       "8269     please use it in comments in 10 other randomly...\n",
       "8654                 im a statistician and yes yes we are \n",
       "24215    there is a large us trial currently underway s...\n",
       "5658     i greatly respect the serum institute of india...\n",
       "23717    thats the public part of the review there real...\n",
       "Name: comment_body, Length: 10000, dtype: object"
      ]
     },
     "execution_count": 49,
     "metadata": {},
     "output_type": "execute_result"
    }
   ],
   "source": [
    "randomSamples=randomSamples.str.lower()\n",
    "randomSamples=randomSamples.apply(symbolCleaner)\n",
    "randomSamples"
   ]
  },
  {
   "cell_type": "code",
   "execution_count": null,
   "id": "82750a61",
   "metadata": {},
   "outputs": [],
   "source": []
  },
  {
   "cell_type": "code",
   "execution_count": null,
   "id": "301486f0",
   "metadata": {},
   "outputs": [],
   "source": []
  }
 ],
 "metadata": {
  "kernelspec": {
   "display_name": "Python 3 (ipykernel)",
   "language": "python",
   "name": "python3"
  },
  "language_info": {
   "codemirror_mode": {
    "name": "ipython",
    "version": 3
   },
   "file_extension": ".py",
   "mimetype": "text/x-python",
   "name": "python",
   "nbconvert_exporter": "python",
   "pygments_lexer": "ipython3",
   "version": "3.9.4"
  }
 },
 "nbformat": 4,
 "nbformat_minor": 5
}
