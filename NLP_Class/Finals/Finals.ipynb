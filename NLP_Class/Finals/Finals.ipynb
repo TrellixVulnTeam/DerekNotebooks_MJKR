{
 "cells": [
  {
   "cell_type": "markdown",
   "id": "50316459",
   "metadata": {},
   "source": [
    "### Steps\n",
    "\n",
    "1) Load CSV with texts.\n",
    "\n",
    "2) Load the data into memory as a pandas dataframe.\n",
    "\n",
    "3) Parse the URLs from every text and pop them from the string, count how many URLs were removed also.\n",
    "\n",
    "4) Save the new dataframe into a separate CSV file.\n",
    "\n",
    "This script/notebook/prototype also removes TCP and IP schemes instead of just HTTP/S"
   ]
  },
  {
   "cell_type": "markdown",
   "id": "398a035b",
   "metadata": {},
   "source": [
    "### Notes\n",
    "    The regex language in removeURL() will always be recompiled when the function is called, #prototyping geng geng\n",
    "    TCP and IP links might not turn into hpyerlinks"
   ]
  },
  {
   "cell_type": "code",
   "execution_count": 1,
   "id": "3fa63280",
   "metadata": {},
   "outputs": [],
   "source": [
    "# using pandas for easier csv handling and its convenient DataFrame class\n",
    "import pandas as pd\n",
    "# using re as the main method to remove complete URLs\n",
    "import re\n",
    "\n",
    "def removeURL(row):\n",
    "    row=row.strip()\n",
    "    test=row.split(\" \") # each substring will be checked with the regex language\n",
    "    count=0 # using this to count how many substrings matched with the language\n",
    "    results=[]\n",
    "    for i in test:\n",
    "        # I am aware that every time this function is called, this language is recompiled...\n",
    "        # This also checks for ip and tcp schemes instead of just http/https\n",
    "        cleaned=re.sub('((^https?)|(^ip)|(^tcp)):\\/\\/.*[\\r\\n]*','', i , flags=re.MULTILINE)\n",
    "        if not cleaned:# If it is the removed URL then count gets incremented.\n",
    "            count+=1\n",
    "        results.append(cleaned)\n",
    "    results=\" \".join(results)\n",
    "    if count==0:\n",
    "        count=\"No complete URLs found\"\n",
    "    return {'original':row,'count':count,'textNoURL':results.strip()}#using strip to remove leading and trailing whitespaces"
   ]
  },
  {
   "cell_type": "code",
   "execution_count": 2,
   "id": "d1c332e5",
   "metadata": {},
   "outputs": [],
   "source": [
    "OUTPUT=pd.read_csv(\"CSV/dummyData.csv\")\n",
    "FINALS=[removeURL(i)for i in OUTPUT['text']]\n",
    "FINALS=pd.DataFrame(FINALS)\n",
    "FINALS[['original','count','textNoURL']]\n",
    "FINALS.to_csv('./CSV/FINALS.csv',index=False)"
   ]
  },
  {
   "cell_type": "markdown",
   "id": "c084cb9d",
   "metadata": {},
   "source": [
    "#### References\n",
    "\n",
    "https://developer.mozilla.org/en-US/docs/Learn/Common_questions/What_is_a_URL"
   ]
  }
 ],
 "metadata": {
  "kernelspec": {
   "display_name": "Python 3 (ipykernel)",
   "language": "python",
   "name": "python3"
  },
  "language_info": {
   "codemirror_mode": {
    "name": "ipython",
    "version": 3
   },
   "file_extension": ".py",
   "mimetype": "text/x-python",
   "name": "python",
   "nbconvert_exporter": "python",
   "pygments_lexer": "ipython3",
   "version": "3.9.4"
  }
 },
 "nbformat": 4,
 "nbformat_minor": 5
}
