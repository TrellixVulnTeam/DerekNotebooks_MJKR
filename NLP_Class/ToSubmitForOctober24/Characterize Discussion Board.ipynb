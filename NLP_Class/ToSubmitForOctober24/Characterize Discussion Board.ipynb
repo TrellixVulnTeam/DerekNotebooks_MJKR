{
 "cells": [
  {
   "cell_type": "code",
   "execution_count": 213,
   "metadata": {
    "colab": {
     "base_uri": "https://localhost:8080/"
    },
    "id": "WK3di0GUvkYw",
    "outputId": "3510ce08-c1e0-459f-d995-95d4e33ecb58"
   },
   "outputs": [],
   "source": [
    "import pandas as pd"
   ]
  },
  {
   "cell_type": "code",
   "execution_count": 214,
   "metadata": {
    "colab": {
     "base_uri": "https://localhost:8080/"
    },
    "id": "xGT9n12zP5Vy",
    "outputId": "23cdb7b1-0400-402b-ba07-f4b7e39b4382"
   },
   "outputs": [
    {
     "name": "stdout",
     "output_type": "stream",
     "text": [
      "Length of dataset is:  34768\n",
      "The columns are: \n",
      " Index(['post_id', 'post_author', 'post_date', 'post_title', 'post_score',\n",
      "       'post_permalink', 'post_url', 'comment_id', 'comment_author',\n",
      "       'comment_date', 'comment_parent_id', 'comment_edited', 'comment_score',\n",
      "       'comment_body'],\n",
      "      dtype='object')\n"
     ]
    }
   ],
   "source": [
    "file='commentsRedditVaccines.csv'\n",
    "df = pd.read_csv(file, encoding='utf-8')\n",
    "print('Length of dataset is: ',len(df))\n",
    "print('The columns are: \\n',df.columns)"
   ]
  },
  {
   "cell_type": "code",
   "execution_count": 215,
   "metadata": {
    "id": "Rfr-2zNN6oWd"
   },
   "outputs": [
    {
     "name": "stdout",
     "output_type": "stream",
     "text": [
      "                                                                                                                                                                                                                                          post_id  \\\n",
      "kdmkbz KinnerNevada 2020-12-15 14:21:20 Moderna's vaccine is highly effective, FDA says... 42481 /r/Coronavirus/comments/kdmkbz/modernas_vaccine... https://www.nbcnews.com/health/health-news/mode... gfx8br4 AutoModerator  2020-12-15 14:21:21   \n",
      "                                                                                                                                                                                                       gfx930g Hothabanero6   2020-12-15 14:28:43   \n",
      "\n",
      "                                                                                                                                                                                                                             post_title  \\\n",
      "kdmkbz KinnerNevada 2020-12-15 14:21:20 Moderna's vaccine is highly effective, FDA says... 42481 /r/Coronavirus/comments/kdmkbz/modernas_vaccine... https://www.nbcnews.com/health/health-news/mode... gfx8br4 AutoModerator  t3_kdmkbz   \n",
      "                                                                                                                                                                                                       gfx930g Hothabanero6   t3_kdmkbz   \n",
      "\n",
      "                                                                                                                                                                                                                             post_score  \\\n",
      "kdmkbz KinnerNevada 2020-12-15 14:21:20 Moderna's vaccine is highly effective, FDA says... 42481 /r/Coronavirus/comments/kdmkbz/modernas_vaccine... https://www.nbcnews.com/health/health-news/mode... gfx8br4 AutoModerator      False   \n",
      "                                                                                                                                                                                                       gfx930g Hothabanero6       False   \n",
      "\n",
      "                                                                                                                                                                                                                              comment_id  \\\n",
      "kdmkbz KinnerNevada 2020-12-15 14:21:20 Moderna's vaccine is highly effective, FDA says... 42481 /r/Coronavirus/comments/kdmkbz/modernas_vaccine... https://www.nbcnews.com/health/health-news/mode... gfx8br4 AutoModerator           1   \n",
      "                                                                                                                                                                                                       gfx930g Hothabanero6         1784   \n",
      "\n",
      "                                                                                                                                                                                                                                                                   comment_body  \n",
      "kdmkbz KinnerNevada 2020-12-15 14:21:20 Moderna's vaccine is highly effective, FDA says... 42481 /r/Coronavirus/comments/kdmkbz/modernas_vaccine... https://www.nbcnews.com/health/health-news/mode... gfx8br4 AutoModerator  This post appears to be about vaccines, please...  \n",
      "                                                                                                                                                                                                       gfx930g Hothabanero6   Who's ahead in the pool for the third vaccine ...  \n"
     ]
    }
   ],
   "source": [
    "row_headers=['post_id','post_title','post_score','comment_id','comment_body']\n",
    "df = pd.read_csv(file, names=row_headers,skiprows=1)\n",
    "print(df.iloc[0:2])"
   ]
  },
  {
   "cell_type": "code",
   "execution_count": 216,
   "metadata": {
    "colab": {
     "base_uri": "https://localhost:8080/"
    },
    "id": "Hyg2ZNHR9wK4",
    "outputId": "94d3f4e5-077b-4008-fa25-f33c9decbb0e"
   },
   "outputs": [
    {
     "name": "stdout",
     "output_type": "stream",
     "text": [
      "Index(['post_id', 'post_title', 'post_score', 'comment_id', 'comment_body'], dtype='object')\n"
     ]
    }
   ],
   "source": [
    "print (df.columns)"
   ]
  },
  {
   "cell_type": "code",
   "execution_count": 217,
   "metadata": {
    "colab": {
     "base_uri": "https://localhost:8080/"
    },
    "id": "5C4yPjGEQdwX",
    "outputId": "fc32bf3c-7333-4e28-91ff-e3741a283f61"
   },
   "outputs": [
    {
     "data": {
      "text/plain": [
       "(34768, 5)"
      ]
     },
     "execution_count": 217,
     "metadata": {},
     "output_type": "execute_result"
    }
   ],
   "source": [
    "df.shape"
   ]
  },
  {
   "cell_type": "code",
   "execution_count": 218,
   "metadata": {
    "colab": {
     "base_uri": "https://localhost:8080/"
    },
    "id": "2Ait4W6W-HQG",
    "outputId": "3807077b-a441-40c2-b2c4-f55c6bdf471f"
   },
   "outputs": [
    {
     "name": "stdout",
     "output_type": "stream",
     "text": [
      "Unique post_id : 34481\n",
      "Unique post_title : 17438\n",
      "Unique post_score : 1559\n",
      "Unique comment_id : 576\n",
      "Unique comment_body : 32239\n"
     ]
    },
    {
     "data": {
      "text/plain": [
       "[None, None, None, None, None]"
      ]
     },
     "execution_count": 218,
     "metadata": {},
     "output_type": "execute_result"
    }
   ],
   "source": [
    "[print(\"Unique\",header,':',df[header].nunique()) for header in row_headers]"
   ]
  },
  {
   "cell_type": "markdown",
   "metadata": {
    "id": "vkuzF33b-lSY"
   },
   "source": [
    "There are 34481 unique posts found in this data.\n",
    "\n",
    "17438 unique titles.\n",
    "\n",
    "1559 unique scores or karma points since this dataset is from reddit discussion boards.\n",
    "\n",
    "576 unique comments are found in the dataset but despite that there are 32239 unique comments or comment_body written in the dataset."
   ]
  },
  {
   "cell_type": "code",
   "execution_count": 219,
   "metadata": {
    "id": "VUdRHFmY_Z4u"
   },
   "outputs": [
    {
     "data": {
      "text/html": [
       "<div>\n",
       "<style scoped>\n",
       "    .dataframe tbody tr th:only-of-type {\n",
       "        vertical-align: middle;\n",
       "    }\n",
       "\n",
       "    .dataframe tbody tr th {\n",
       "        vertical-align: top;\n",
       "    }\n",
       "\n",
       "    .dataframe thead th {\n",
       "        text-align: right;\n",
       "    }\n",
       "</style>\n",
       "<table border=\"1\" class=\"dataframe\">\n",
       "  <thead>\n",
       "    <tr style=\"text-align: right;\">\n",
       "      <th></th>\n",
       "      <th>comment_id</th>\n",
       "    </tr>\n",
       "  </thead>\n",
       "  <tbody>\n",
       "    <tr>\n",
       "      <th>count</th>\n",
       "      <td>34768.000000</td>\n",
       "    </tr>\n",
       "    <tr>\n",
       "      <th>mean</th>\n",
       "      <td>17.651461</td>\n",
       "    </tr>\n",
       "    <tr>\n",
       "      <th>std</th>\n",
       "      <td>116.955921</td>\n",
       "    </tr>\n",
       "    <tr>\n",
       "      <th>min</th>\n",
       "      <td>-153.000000</td>\n",
       "    </tr>\n",
       "    <tr>\n",
       "      <th>25%</th>\n",
       "      <td>1.000000</td>\n",
       "    </tr>\n",
       "    <tr>\n",
       "      <th>50%</th>\n",
       "      <td>3.000000</td>\n",
       "    </tr>\n",
       "    <tr>\n",
       "      <th>75%</th>\n",
       "      <td>10.000000</td>\n",
       "    </tr>\n",
       "    <tr>\n",
       "      <th>max</th>\n",
       "      <td>9449.000000</td>\n",
       "    </tr>\n",
       "  </tbody>\n",
       "</table>\n",
       "</div>"
      ],
      "text/plain": [
       "         comment_id\n",
       "count  34768.000000\n",
       "mean      17.651461\n",
       "std      116.955921\n",
       "min     -153.000000\n",
       "25%        1.000000\n",
       "50%        3.000000\n",
       "75%       10.000000\n",
       "max     9449.000000"
      ]
     },
     "execution_count": 219,
     "metadata": {},
     "output_type": "execute_result"
    }
   ],
   "source": [
    "df.describe()"
   ]
  },
  {
   "cell_type": "code",
   "execution_count": 220,
   "metadata": {
    "id": "-imeglxMFEJm"
   },
   "outputs": [],
   "source": [
    "df.to_csv('processed.csv',index=False,header=True)"
   ]
  },
  {
   "cell_type": "code",
   "execution_count": 221,
   "metadata": {
    "id": "u3_aYN-_E10Q"
   },
   "outputs": [],
   "source": [
    "processed_df = pd.read_csv('processed.csv')\n",
    "processed_df = processed_df[['comment_body', 'post_id', 'comment_id']]"
   ]
  },
  {
   "cell_type": "code",
   "execution_count": 222,
   "metadata": {
    "colab": {
     "base_uri": "https://localhost:8080/"
    },
    "id": "7BQtYgvbGBsi",
    "outputId": "e6529e56-96ba-4dc6-8d39-38838ce2c5a9"
   },
   "outputs": [
    {
     "name": "stdout",
     "output_type": "stream",
     "text": [
      "                                        comment_body              post_id  \\\n",
      "0  This post appears to be about vaccines, please...  2020-12-15 14:21:21   \n",
      "1  Who's ahead in the pool for the third vaccine ...  2020-12-15 14:28:43   \n",
      "2  \"asymptomatic infection was reduced by 63 perc...  2020-12-15 14:42:16   \n",
      "3  > and appears to prevent the spread of the vir...  2020-12-15 15:36:09   \n",
      "4  The fact that there are multiple companies mak...  2020-12-15 17:01:14   \n",
      "\n",
      "   comment_id  \n",
      "0           1  \n",
      "1        1784  \n",
      "2        1905  \n",
      "3        3503  \n",
      "4         326  \n"
     ]
    }
   ],
   "source": [
    "print(processed_df.head())"
   ]
  },
  {
   "cell_type": "code",
   "execution_count": 223,
   "metadata": {
    "colab": {
     "base_uri": "https://localhost:8080/"
    },
    "id": "4QnOYM46boil",
    "outputId": "769db73e-4967-46e3-fa55-3749b6bfb21b"
   },
   "outputs": [
    {
     "name": "stderr",
     "output_type": "stream",
     "text": [
      "[nltk_data] Downloading package stopwords to\n",
      "[nltk_data]     C:\\Users\\Person\\AppData\\Roaming\\nltk_data...\n",
      "[nltk_data]   Package stopwords is already up-to-date!\n",
      "[nltk_data] Downloading package punkt to\n",
      "[nltk_data]     C:\\Users\\Person\\AppData\\Roaming\\nltk_data...\n",
      "[nltk_data]   Package punkt is already up-to-date!\n",
      "[nltk_data] Downloading package wordnet to\n",
      "[nltk_data]     C:\\Users\\Person\\AppData\\Roaming\\nltk_data...\n",
      "[nltk_data]   Package wordnet is already up-to-date!\n"
     ]
    }
   ],
   "source": [
    "import nltk\n",
    "import ssl\n",
    "\n",
    "try:\n",
    "    _create_unverified_https_context = ssl._create_unverified_context\n",
    "except AttributeError:\n",
    "    pass\n",
    "else:\n",
    "    ssl._create_default_https_context = _create_unverified_https_context\n",
    "\n",
    "nltk.download('stopwords')\n",
    "nltk.download('punkt')\n",
    "nltk.download('wordnet')\n",
    "\n",
    "from nltk.corpus import stopwords\n",
    "stop_words = stopwords.words('english')\n",
    "stop_words.extend(['would', 'uhmm'])"
   ]
  },
  {
   "cell_type": "code",
   "execution_count": 224,
   "metadata": {
    "id": "3tGUGI32XPBl"
   },
   "outputs": [],
   "source": [
    "# Cleaning Function\n",
    "def cleaning(string):\n",
    "    string = string.lower()\n",
    "    string = string.replace('àö', '')\n",
    "    string = string.replace('çå', '')\n",
    "    string = string.replace('ç', '')\n",
    "    string = string.replace('å', '')\n",
    "    string = string.replace('äôs', '')\n",
    "    string = string.replace('çç', '')\n",
    "    string = string.replace('äôt', '')\n",
    "    string = string.lower()\n",
    "   \n",
    "    from nltk.stem import WordNetLemmatizer\n",
    "    import nltk\n",
    "    words = nltk.word_tokenize(string)\n",
    "    lemmatizer = WordNetLemmatizer()\n",
    "    words = [lemmatizer.lemmatize(i) for i in words]\n",
    "    new_words = []\n",
    "    for i in words:\n",
    "        if i.isdigit():\n",
    "            new_words.append('NUMBER')\n",
    "        else:\n",
    "            new_words.append(i)\n",
    "    return ' '.join(new_words)"
   ]
  },
  {
   "cell_type": "code",
   "execution_count": 225,
   "metadata": {
    "id": "oq9mY_lGNHhT"
   },
   "outputs": [
    {
     "name": "stdout",
     "output_type": "stream",
     "text": [
      "       comment_id                                       comment_body\n",
      "0               1  this post appears to be about vaccine , please...\n",
      "1            1784  who 's ahead in the pool for the third vaccine...\n",
      "2            1905  `` asymptomatic infection wa reduced by NUMBER...\n",
      "3            3503  > and appears to prevent the spread of the vir...\n",
      "4             326  the fact that there are multiple company makin...\n",
      "...           ...                                                ...\n",
      "34763           2  > if a state receives lower quantity than they...\n",
      "34764           4  military , intelligence and/or diplomatic barg...\n",
      "34765           1  or just not evenly allocated to state . again ...\n",
      "34766           1        i heard alien just beamed it up . zzzzzooop\n",
      "34767           3  i 'm not sure what you 're trying to argue . t...\n",
      "\n",
      "[34768 rows x 2 columns]\n"
     ]
    }
   ],
   "source": [
    "#df_threads_text = processed_df.groupby('comment_id')['comment_body'].apply(set).reset_index(name='comment_id')\n",
    "processed_df['comment_body']=processed_df['comment_body'].apply(cleaning)\n",
    "print(processed_df[['comment_id','comment_body']])"
   ]
  }
 ],
 "metadata": {
  "colab": {
   "collapsed_sections": [],
   "name": "Data Wrangling.ipynb",
   "provenance": []
  },
  "kernelspec": {
   "display_name": "Python 3 (ipykernel)",
   "language": "python",
   "name": "python3"
  },
  "language_info": {
   "codemirror_mode": {
    "name": "ipython",
    "version": 3
   },
   "file_extension": ".py",
   "mimetype": "text/x-python",
   "name": "python",
   "nbconvert_exporter": "python",
   "pygments_lexer": "ipython3",
   "version": "3.9.4"
  }
 },
 "nbformat": 4,
 "nbformat_minor": 1
}
